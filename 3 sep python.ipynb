{
 "cells": [
  {
   "cell_type": "code",
   "execution_count": 2,
   "metadata": {},
   "outputs": [],
   "source": [
    "# to check given three sides making an angle"
   ]
  },
  {
   "cell_type": "code",
   "execution_count": 6,
   "metadata": {},
   "outputs": [
    {
     "name": "stdout",
     "output_type": "stream",
     "text": [
      "three side making a traingle\n"
     ]
    }
   ],
   "source": [
    "a=4\n",
    "b=5\n",
    "c=3\n",
    "if a+b>=c:\n",
    "    print(\"three side making a traingle\")\n",
    "else:\n",
    "    print(\"three side is not making traingle\")"
   ]
  },
  {
   "cell_type": "code",
   "execution_count": 7,
   "metadata": {},
   "outputs": [
    {
     "name": "stdout",
     "output_type": "stream",
     "text": [
      "2\n"
     ]
    }
   ],
   "source": [
    "x=55\n",
    "y=10\n",
    "x&=y\n",
    "print(x)"
   ]
  },
  {
   "cell_type": "code",
   "execution_count": 8,
   "metadata": {},
   "outputs": [
    {
     "name": "stdout",
     "output_type": "stream",
     "text": [
      "traingle is possible\n",
      "traingle is possible\n"
     ]
    }
   ],
   "source": [
    "a=4\n",
    "b=5\n",
    "c=3\n",
    "if b+c>=a:\n",
    "    print(\"traingle is possible\")\n",
    "if c+a>=b:\n",
    "    print(\"traingle is possible\")\n",
    "else:\n",
    "    print(\"traingle is not possible\")"
   ]
  },
  {
   "cell_type": "code",
   "execution_count": 11,
   "metadata": {},
   "outputs": [
    {
     "name": "stdout",
     "output_type": "stream",
     "text": [
      "0\n"
     ]
    }
   ],
   "source": [
    "a=10\n",
    "b=4\n",
    "a&=b\n",
    "print(a)"
   ]
  },
  {
   "cell_type": "code",
   "execution_count": 12,
   "metadata": {},
   "outputs": [
    {
     "name": "stdout",
     "output_type": "stream",
     "text": [
      "14\n"
     ]
    }
   ],
   "source": [
    "x=10\n",
    "y=4\n",
    "x^=y\n",
    "print(x)"
   ]
  },
  {
   "cell_type": "code",
   "execution_count": 14,
   "metadata": {},
   "outputs": [
    {
     "name": "stdout",
     "output_type": "stream",
     "text": [
      "hello\n",
      "hey\n"
     ]
    }
   ],
   "source": [
    "msg=\"hello\\nhey\"\n",
    "print(msg)"
   ]
  },
  {
   "cell_type": "code",
   "execution_count": 18,
   "metadata": {},
   "outputs": [],
   "source": [
    "txt=\"my name is \\\"ashwin yadav\\\"from mirzapur uttar pradesh\"\n"
   ]
  },
  {
   "cell_type": "code",
   "execution_count": 17,
   "metadata": {},
   "outputs": [
    {
     "name": "stdout",
     "output_type": "stream",
     "text": [
      "my name is ashwin yadav\"vinking\"from mirzapur uttar pradesh\n"
     ]
    }
   ],
   "source": [
    "print(txt)"
   ]
  },
  {
   "cell_type": "code",
   "execution_count": 28,
   "metadata": {},
   "outputs": [],
   "source": [
    "# # practice problem\n",
    "# # Given three side tell whether they form a triangle . classify the type of traingle they form scalene ,isosceles or \n",
    "# equilayeral.#.Given three sides of a traingle find area and perimetre of traiangle. \n",
    "# .Given radius of circle find the area and circumference. \n",
    "#given number check if it is float or integer,use type conversion "
   ]
  },
  {
   "cell_type": "code",
   "execution_count": 17,
   "metadata": {},
   "outputs": [
    {
     "name": "stdout",
     "output_type": "stream",
     "text": [
      "traingle is possible \n",
      "traingle is possible\n",
      "traingle is possible \n",
      "traingle is scalene\n"
     ]
    }
   ],
   "source": [
    "\n",
    "a=3\n",
    "b=5\n",
    "c=4\n",
    "if a+b>=c:\n",
    "    print(\"traingle is possible \")\n",
    "if b+c>=a:\n",
    "    print(\"traingle is possible\")\n",
    "if c+a>=b:\n",
    "    print(\"traingle is possible \")\n",
    "if a==b==c:\n",
    "    print(\"traingle is an equilateral\")\n",
    "elif a==b!=c:\n",
    "    print(\"traingle is isoscale\")\n",
    "elif a!=b!=c:\n",
    "    print(\"traingle is scalene\")\n",
    "elif a==b:\n",
    "    print(\"traingle is isoscles\")\n",
    "elif b==c:\n",
    "    print(\"traingle is isoscales \")\n",
    "elif c!=a:\n",
    "    print(\"traingle is scalene \")\n",
    "elif b!=c:\n",
    "    print(\"traingle is scalene\")\n",
    "elif b!=a:\n",
    "    print(\"traingle is scalene \")\n",
    "else:\n",
    "    print(\"traingle is not possible\")"
   ]
  },
  {
   "cell_type": "code",
   "execution_count": 42,
   "metadata": {},
   "outputs": [
    {
     "name": "stdout",
     "output_type": "stream",
     "text": [
      "area is 0.0\n",
      "perimetre is 12\n"
     ]
    }
   ],
   "source": [
    "a=4\n",
    "b=6\n",
    "c=2\n",
    "s=(a+b+c)/2\n",
    "area=(s*(s-a)*(s-b)*(s-c))**(0.5)\n",
    "perimetre=(a+b+c)\n",
    "print(\"area is\",area)\n",
    "print(\"perimetre is\",perimetre)\n",
    "\n",
    "    \n",
    "\n",
    "\n"
   ]
  },
  {
   "cell_type": "code",
   "execution_count": 47,
   "metadata": {},
   "outputs": [
    {
     "name": "stdout",
     "output_type": "stream",
     "text": [
      "<class 'int'>\n",
      "<class 'float'>\n",
      "4\n"
     ]
    }
   ],
   "source": [
    "a=3\n",
    "b=4.5\n",
    "print(type(a))\n",
    "print(type(b))\n",
    "d=int(b)\n",
    "print(int(b))"
   ]
  },
  {
   "cell_type": "code",
   "execution_count": 4,
   "metadata": {},
   "outputs": [
    {
     "name": "stdout",
     "output_type": "stream",
     "text": [
      "area is 78.5\n",
      "perimetre is 31.400000000000002\n"
     ]
    }
   ],
   "source": [
    "r=5 #r is radius of circle \n",
    "area=3.14*(r)**2\n",
    "perimetre =2*3.14*(r)\n",
    "print(\"area is\",area)\n",
    "print(\"perimetre is\",perimetre)\n"
   ]
  },
  {
   "cell_type": "code",
   "execution_count": 1,
   "metadata": {},
   "outputs": [],
   "source": [
    "# four side given to check making a quadrilateral if yes then find which type of quadrilateral."
   ]
  },
  {
   "cell_type": "code",
   "execution_count": 8,
   "metadata": {},
   "outputs": [
    {
     "name": "stdout",
     "output_type": "stream",
     "text": [
      "it is not possible quadrilateral\n"
     ]
    }
   ],
   "source": [
    "a=2\n",
    "b=5\n",
    "c=3\n",
    "d=3\n",
    "if a==b and c==d :\n",
    "    print(\"it is a rhombus\")\n",
    "if a==b==c==d:\n",
    "    print(\"it is a square\")\n",
    "if a==d and d==b:\n",
    "    print(\"it is a rhombus\")\n",
    "if a==b and c==d:\n",
    "    print(\"it is a rectangle\")\n",
    "else:\n",
    "    print(\"it is not possible quadrilateral\")\n",
    "     \n"
   ]
  },
  {
   "cell_type": "code",
   "execution_count": 3,
   "metadata": {},
   "outputs": [
    {
     "name": "stdout",
     "output_type": "stream",
     "text": [
      "two distinct real root\n"
     ]
    }
   ],
   "source": [
    "a=2\n",
    "b=4\n",
    "c=1\n",
    "D=b**2-4*a*c\n",
    "if D>0:\n",
    "    print(\"two distinct real root\")\n",
    "elif D<0:\n",
    "    print(\"two distinct complex root\")\n",
    "else:\n",
    "    print(\"one real root\")"
   ]
  },
  {
   "cell_type": "code",
   "execution_count": 4,
   "metadata": {},
   "outputs": [
    {
     "name": "stdout",
     "output_type": "stream",
     "text": [
      "two real roots\n"
     ]
    }
   ],
   "source": [
    "a=2 \n",
    "b=3\n",
    "c=1\n",
    "D=b**2-4*a*c\n",
    "x=(-b+(D)**0.5)/(2*a)\n",
    "y=(-b-(D)**0.5)/(2*a)\n",
    "if D>0:\n",
    "    print(\"two real roots\")\n",
    "elif D<0:\n",
    "    print(\"two complex real root\")\n",
    "    re=-b/(2*a)\n",
    "    im=-D/(2*a)\n",
    "    print(\"the real part is\",re)\n",
    "    print(\"magnitude of imaginary part is\",im)\n",
    "else:\n",
    "    print(\"one real root\",-b/(2*a))\n",
    "    \n",
    "    \n",
    "    "
   ]
  },
  {
   "cell_type": "code",
   "execution_count": 5,
   "metadata": {},
   "outputs": [],
   "source": [
    "# given 3 unequal numbers , write a python code to find out the greatest among them."
   ]
  },
  {
   "cell_type": "code",
   "execution_count": 12,
   "metadata": {},
   "outputs": [
    {
     "name": "stdout",
     "output_type": "stream",
     "text": [
      "a is greatest\n"
     ]
    }
   ],
   "source": [
    "a=4\n",
    "b=3\n",
    "c=2\n",
    "if a>b:\n",
    "    print(\"a is greatest\")\n",
    "else:\n",
    "    print(\"b is greatest\")\n",
    "    if a>c:\n",
    "        print(\"a is greatest\")\n",
    "    else:\n",
    "        print(\"c is greatest\")\n",
    "\n"
   ]
  },
  {
   "cell_type": "code",
   "execution_count": 13,
   "metadata": {},
   "outputs": [
    {
     "name": "stdout",
     "output_type": "stream",
     "text": [
      "person is a teenager \n"
     ]
    }
   ],
   "source": [
    "# given the age of a person , find out if she/he is a child, a teenager or adult\n",
    "Age= 15\n",
    "if Age<13:\n",
    "    print(\"he is a child\")\n",
    "elif Age>=13 and Age<=19:\n",
    "    print(\"person is a teenager \")\n",
    "else:\n",
    "    print(\"person is adult\")"
   ]
  },
  {
   "cell_type": "code",
   "execution_count": 14,
   "metadata": {},
   "outputs": [],
   "source": [
    "# Given 3 points in 2D space,\n",
    "# check if they lie along a straight line \n",
    "#A(x1,y1),B(x2,y2),C(x3,y3)"
   ]
  },
  {
   "cell_type": "code",
   "execution_count": 33,
   "metadata": {},
   "outputs": [
    {
     "name": "stdout",
     "output_type": "stream",
     "text": [
      "point not lie along straight line\n"
     ]
    }
   ],
   "source": [
    "x1=1\n",
    "x2=2\n",
    "x3=4\n",
    "y1=6\n",
    "y2=3\n",
    "y3=1\n",
    "m1=(y2-y1)/(x2-x1) \n",
    "m2=(y3-y2)/(x3-x2)\n",
    "m3=(y3-y1)/(x3-x1)\n",
    "if (y2-y1)/(x2-x1)==(y3-y2)/(x3-x2)==(y3-y1)/(x3-x1):\n",
    "    print(\" point lie along straight line\")\n",
    "else:\n",
    "    print(\"point not lie along straight line\")\n",
    "\n",
    "\n",
    "    \n",
    "    \n",
    "\n",
    "\n"
   ]
  },
  {
   "cell_type": "code",
   "execution_count": 12,
   "metadata": {},
   "outputs": [
    {
     "name": "stdout",
     "output_type": "stream",
     "text": [
      "year is not a leap year\n"
     ]
    }
   ],
   "source": [
    "# Write a code to check if a given year \n",
    "#is a leap year or not\n",
    "year= 2023\n",
    "if year%4==0:\n",
    "    print(\"year is a leap year\")\n",
    "elif year%100==0:\n",
    "    print(\"year is not  a leap year\")\n",
    "else:\n",
    "    print(\"year is not a leap year\")\n",
    "    \n"
   ]
  },
  {
   "cell_type": "code",
   "execution_count": 13,
   "metadata": {},
   "outputs": [
    {
     "name": "stdout",
     "output_type": "stream",
     "text": [
      "y is greater then x\n"
     ]
    }
   ],
   "source": [
    "#check which one is greater\n",
    "def greatest(x,y):\n",
    "    if x>=y:\n",
    "        if x>y:\n",
    "            return(\"x greater then y\")\n",
    "        else:\n",
    "            return(\"x is equal to y\")\n",
    "    else:\n",
    "        return(\"y is greater then x\")\n",
    "print(greatest(2,3))"
   ]
  },
  {
   "cell_type": "code",
   "execution_count": null,
   "metadata": {},
   "outputs": [],
   "source": []
  }
 ],
 "metadata": {
  "kernelspec": {
   "display_name": "Python 3",
   "language": "python",
   "name": "python3"
  },
  "language_info": {
   "codemirror_mode": {
    "name": "ipython",
    "version": 3
   },
   "file_extension": ".py",
   "mimetype": "text/x-python",
   "name": "python",
   "nbconvert_exporter": "python",
   "pygments_lexer": "ipython3",
   "version": "3.11.9"
  }
 },
 "nbformat": 4,
 "nbformat_minor": 2
}
